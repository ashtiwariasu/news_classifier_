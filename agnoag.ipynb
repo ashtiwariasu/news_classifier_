{
  "nbformat": 4,
  "nbformat_minor": 0,
  "metadata": {
    "colab": {
      "name": "agnoag.ipynb",
      "version": "0.3.2",
      "provenance": [],
      "collapsed_sections": []
    },
    "kernelspec": {
      "name": "python3",
      "display_name": "Python 3"
    }
  },
  "cells": [
    {
      "cell_type": "code",
      "metadata": {
        "id": "RRFVTx92d2IX",
        "colab_type": "code",
        "outputId": "265f5188-7440-46b2-f160-5104b8e494d5",
        "colab": {
          "base_uri": "https://localhost:8080/",
          "height": 34
        }
      },
      "source": [
        "from google.colab import drive\n",
        "drive.mount('/content/drive')"
      ],
      "execution_count": 0,
      "outputs": [
        {
          "output_type": "stream",
          "text": [
            "Drive already mounted at /content/drive; to attempt to forcibly remount, call drive.mount(\"/content/drive\", force_remount=True).\n"
          ],
          "name": "stdout"
        }
      ]
    },
    {
      "cell_type": "code",
      "metadata": {
        "id": "zNrfMqOxpxKY",
        "colab_type": "code",
        "outputId": "53c29dc9-8b29-4542-f824-6bfc702de59d",
        "colab": {
          "base_uri": "https://localhost:8080/",
          "height": 34
        }
      },
      "source": [
        "from google.colab import drive\n",
        "drive.mount('/content/drive')\n"
      ],
      "execution_count": 0,
      "outputs": [
        {
          "output_type": "stream",
          "text": [
            "Drive already mounted at /content/drive; to attempt to forcibly remount, call drive.mount(\"/content/drive\", force_remount=True).\n"
          ],
          "name": "stdout"
        }
      ]
    },
    {
      "cell_type": "code",
      "metadata": {
        "id": "VwvBcuLSqEay",
        "colab_type": "code",
        "outputId": "eb89ab26-9936-4191-c492-8cc7ca0b4b4f",
        "colab": {
          "base_uri": "https://localhost:8080/",
          "height": 85
        }
      },
      "source": [
        "ls \"/content/drive/My Drive\""
      ],
      "execution_count": 0,
      "outputs": [
        {
          "output_type": "stream",
          "text": [
            " \u001b[0m\u001b[01;34m2to1\u001b[0m/                  Corpus.xlsx            test1.txt\n",
            " agnoag.xlsx           'Getting started.pdf'   Unclassified.xlsx\n",
            "\u001b[01;34m'Colab Notebooks'\u001b[0m/      predictions.xlsx       \u001b[01;34mYelp_Data\u001b[0m/\n",
            " corpus_shuffled.xlsx   shuffled.xlsx\n"
          ],
          "name": "stdout"
        }
      ]
    },
    {
      "cell_type": "code",
      "metadata": {
        "id": "PzRThWp4qLvB",
        "colab_type": "code",
        "colab": {}
      },
      "source": [
        "import pandas as pd\n",
        "path = '/content/drive/My Drive/'\n",
        "corpus1 = pd.read_excel(path + 'agnoag.xlsx') \n",
        "\n"
      ],
      "execution_count": 0,
      "outputs": []
    },
    {
      "cell_type": "code",
      "metadata": {
        "id": "R9kN6MU4rBiO",
        "colab_type": "code",
        "outputId": "81f7a950-5fdb-48c3-ef77-4c4257ff1b87",
        "colab": {
          "base_uri": "https://localhost:8080/",
          "height": 359
        }
      },
      "source": [
        "import pandas as pd\n",
        "type(corpus1)\n",
        "corpus1.shape\n",
        "corpus = pd.DataFrame(corpus1)\n",
        "corpus.head(10)\n",
        "#type(corpus)"
      ],
      "execution_count": 0,
      "outputs": [
        {
          "output_type": "execute_result",
          "data": {
            "text/html": [
              "<div>\n",
              "<style scoped>\n",
              "    .dataframe tbody tr th:only-of-type {\n",
              "        vertical-align: middle;\n",
              "    }\n",
              "\n",
              "    .dataframe tbody tr th {\n",
              "        vertical-align: top;\n",
              "    }\n",
              "\n",
              "    .dataframe thead th {\n",
              "        text-align: right;\n",
              "    }\n",
              "</style>\n",
              "<table border=\"1\" class=\"dataframe\">\n",
              "  <thead>\n",
              "    <tr style=\"text-align: right;\">\n",
              "      <th></th>\n",
              "      <th>text</th>\n",
              "      <th>label</th>\n",
              "    </tr>\n",
              "  </thead>\n",
              "  <tbody>\n",
              "    <tr>\n",
              "      <th>0</th>\n",
              "      <td>The plan aims to make American agriculture the...</td>\n",
              "      <td>1</td>\n",
              "    </tr>\n",
              "    <tr>\n",
              "      <th>1</th>\n",
              "      <td>Prime Minister Narendra Modi wants more privat...</td>\n",
              "      <td>1</td>\n",
              "    </tr>\n",
              "    <tr>\n",
              "      <th>2</th>\n",
              "      <td>A truly agriculture and rural development-focu...</td>\n",
              "      <td>1</td>\n",
              "    </tr>\n",
              "    <tr>\n",
              "      <th>3</th>\n",
              "      <td>It has been noted that the NDA-3 government's ...</td>\n",
              "      <td>1</td>\n",
              "    </tr>\n",
              "    <tr>\n",
              "      <th>4</th>\n",
              "      <td>CHANDIGARH: Haryana agriculture and farmers' w...</td>\n",
              "      <td>1</td>\n",
              "    </tr>\n",
              "    <tr>\n",
              "      <th>5</th>\n",
              "      <td>Prime Minister Narendra Modi's poll promise of...</td>\n",
              "      <td>1</td>\n",
              "    </tr>\n",
              "    <tr>\n",
              "      <th>6</th>\n",
              "      <td>The new model of economic reforms, commonly kn...</td>\n",
              "      <td>1</td>\n",
              "    </tr>\n",
              "    <tr>\n",
              "      <th>7</th>\n",
              "      <td>Farmers in India, despite being a major part o...</td>\n",
              "      <td>1</td>\n",
              "    </tr>\n",
              "    <tr>\n",
              "      <th>8</th>\n",
              "      <td>Key challenges\\n\\n\\n\\nDoubling farmers' income...</td>\n",
              "      <td>1</td>\n",
              "    </tr>\n",
              "    <tr>\n",
              "      <th>9</th>\n",
              "      <td>The Narendra Modi government's first Budget in...</td>\n",
              "      <td>1</td>\n",
              "    </tr>\n",
              "  </tbody>\n",
              "</table>\n",
              "</div>"
            ],
            "text/plain": [
              "                                                text  label\n",
              "0  The plan aims to make American agriculture the...      1\n",
              "1  Prime Minister Narendra Modi wants more privat...      1\n",
              "2  A truly agriculture and rural development-focu...      1\n",
              "3  It has been noted that the NDA-3 government's ...      1\n",
              "4  CHANDIGARH: Haryana agriculture and farmers' w...      1\n",
              "5  Prime Minister Narendra Modi's poll promise of...      1\n",
              "6  The new model of economic reforms, commonly kn...      1\n",
              "7  Farmers in India, despite being a major part o...      1\n",
              "8  Key challenges\\n\\n\\n\\nDoubling farmers' income...      1\n",
              "9  The Narendra Modi government's first Budget in...      1"
            ]
          },
          "metadata": {
            "tags": []
          },
          "execution_count": 43
        }
      ]
    },
    {
      "cell_type": "code",
      "metadata": {
        "id": "Uq0JPVUyMX2W",
        "colab_type": "code",
        "colab": {}
      },
      "source": [
        "from sklearn.utils import shuffle\n",
        "corpus_shuff = shuffle(corpus)\n",
        "corpus_shuff.head(10)\n",
        "corpus_shuff.to_excel(r'/content/drive/My Drive/corpus_shuffled.xlsx')"
      ],
      "execution_count": 0,
      "outputs": []
    },
    {
      "cell_type": "code",
      "metadata": {
        "id": "6_TodMpLF-6M",
        "colab_type": "code",
        "colab": {}
      },
      "source": [
        "import numpy as np\n",
        "\n",
        "corpus1 =np.asarray(corpus)\n",
        "corpus2= np.random.shuffle(corpus1)\n",
        "\n"
      ],
      "execution_count": 0,
      "outputs": []
    },
    {
      "cell_type": "code",
      "metadata": {
        "id": "FzLR4Tfyui5R",
        "colab_type": "code",
        "colab": {}
      },
      "source": [
        "\n",
        "text = corpus['text']\n",
        "labels = corpus['label']\n",
        "\n",
        "#from keras.utils import to_categorical\n"
      ],
      "execution_count": 0,
      "outputs": []
    },
    {
      "cell_type": "code",
      "metadata": {
        "id": "7V4eUBKSu7vI",
        "colab_type": "code",
        "outputId": "c5b57f32-b971-48d2-b69a-ee2a8f3b973d",
        "colab": {
          "base_uri": "https://localhost:8080/",
          "height": 394
        }
      },
      "source": [
        "!pip install tensorflow==2.0.0-beta0\n",
        "import tensorflow as tf\n",
        "print(tf.__version__)\n"
      ],
      "execution_count": 0,
      "outputs": [
        {
          "output_type": "stream",
          "text": [
            "Requirement already satisfied: tensorflow==2.0.0-beta0 in /usr/local/lib/python3.6/dist-packages (2.0.0b0)\n",
            "Requirement already satisfied: gast>=0.2.0 in /usr/local/lib/python3.6/dist-packages (from tensorflow==2.0.0-beta0) (0.2.2)\n",
            "Requirement already satisfied: astor>=0.6.0 in /usr/local/lib/python3.6/dist-packages (from tensorflow==2.0.0-beta0) (0.8.0)\n",
            "Requirement already satisfied: tb-nightly<1.14.0a20190604,>=1.14.0a20190603 in /usr/local/lib/python3.6/dist-packages (from tensorflow==2.0.0-beta0) (1.14.0a20190603)\n",
            "Requirement already satisfied: google-pasta>=0.1.6 in /usr/local/lib/python3.6/dist-packages (from tensorflow==2.0.0-beta0) (0.1.7)\n",
            "Requirement already satisfied: keras-preprocessing>=1.0.5 in /usr/local/lib/python3.6/dist-packages (from tensorflow==2.0.0-beta0) (1.1.0)\n",
            "Requirement already satisfied: numpy<2.0,>=1.14.5 in /usr/local/lib/python3.6/dist-packages (from tensorflow==2.0.0-beta0) (1.16.4)\n",
            "Requirement already satisfied: six>=1.10.0 in /usr/local/lib/python3.6/dist-packages (from tensorflow==2.0.0-beta0) (1.12.0)\n",
            "Requirement already satisfied: wrapt>=1.11.1 in /usr/local/lib/python3.6/dist-packages (from tensorflow==2.0.0-beta0) (1.11.2)\n",
            "Requirement already satisfied: wheel>=0.26 in /usr/local/lib/python3.6/dist-packages (from tensorflow==2.0.0-beta0) (0.33.4)\n",
            "Requirement already satisfied: protobuf>=3.6.1 in /usr/local/lib/python3.6/dist-packages (from tensorflow==2.0.0-beta0) (3.7.1)\n",
            "Requirement already satisfied: keras-applications>=1.0.6 in /usr/local/lib/python3.6/dist-packages (from tensorflow==2.0.0-beta0) (1.0.8)\n",
            "Requirement already satisfied: absl-py>=0.7.0 in /usr/local/lib/python3.6/dist-packages (from tensorflow==2.0.0-beta0) (0.7.1)\n",
            "Requirement already satisfied: termcolor>=1.1.0 in /usr/local/lib/python3.6/dist-packages (from tensorflow==2.0.0-beta0) (1.1.0)\n",
            "Requirement already satisfied: grpcio>=1.8.6 in /usr/local/lib/python3.6/dist-packages (from tensorflow==2.0.0-beta0) (1.15.0)\n",
            "Requirement already satisfied: tf-estimator-nightly<1.14.0.dev2019060502,>=1.14.0.dev2019060501 in /usr/local/lib/python3.6/dist-packages (from tensorflow==2.0.0-beta0) (1.14.0.dev2019060501)\n",
            "Requirement already satisfied: markdown>=2.6.8 in /usr/local/lib/python3.6/dist-packages (from tb-nightly<1.14.0a20190604,>=1.14.0a20190603->tensorflow==2.0.0-beta0) (3.1.1)\n",
            "Requirement already satisfied: setuptools>=41.0.0 in /usr/local/lib/python3.6/dist-packages (from tb-nightly<1.14.0a20190604,>=1.14.0a20190603->tensorflow==2.0.0-beta0) (41.0.1)\n",
            "Requirement already satisfied: werkzeug>=0.11.15 in /usr/local/lib/python3.6/dist-packages (from tb-nightly<1.14.0a20190604,>=1.14.0a20190603->tensorflow==2.0.0-beta0) (0.15.5)\n",
            "Requirement already satisfied: h5py in /usr/local/lib/python3.6/dist-packages (from keras-applications>=1.0.6->tensorflow==2.0.0-beta0) (2.8.0)\n",
            "2.0.0-beta0\n"
          ],
          "name": "stdout"
        }
      ]
    },
    {
      "cell_type": "code",
      "metadata": {
        "id": "18anHKsAu2E3",
        "colab_type": "code",
        "colab": {}
      },
      "source": [
        "# hyper \n",
        "\n",
        "vocab_size = 3000\n",
        "embedding_dim = 64\n",
        "max_length = 300 # 86%\n",
        "trunc_type='post' # ok \n",
        "padding_type='post' # ok\n",
        "oov_tok = \"<OOV>\"\n",
        "training_size = 1600"
      ],
      "execution_count": 0,
      "outputs": []
    },
    {
      "cell_type": "code",
      "metadata": {
        "id": "Ws0INAmau9hO",
        "colab_type": "code",
        "colab": {}
      },
      "source": [
        "training_text = text[0:training_size]\n",
        "testing_text = text[training_size:]\n",
        "training_labels = labels[0:training_size]\n",
        "testing_labels = labels[training_size:]\n",
        "\n",
        "from tensorflow.keras.preprocessing.text import Tokenizer\n",
        "from tensorflow.keras.preprocessing.sequence import pad_sequences\n",
        "\n",
        "import tensorflow as tf\n",
        "tokenizer = Tokenizer(num_words=vocab_size, oov_token=oov_tok)\n",
        "tokenizer.fit_on_texts(training_text)\n",
        "\n",
        "word_index = tokenizer.word_index"
      ],
      "execution_count": 0,
      "outputs": []
    },
    {
      "cell_type": "code",
      "metadata": {
        "id": "waC9KhnBMXOn",
        "colab_type": "code",
        "outputId": "bd340365-b12b-4810-d6df-8608f2be7c24",
        "colab": {
          "base_uri": "https://localhost:8080/",
          "height": 34
        }
      },
      "source": [
        "training_text.shape"
      ],
      "execution_count": 0,
      "outputs": [
        {
          "output_type": "execute_result",
          "data": {
            "text/plain": [
              "(1600,)"
            ]
          },
          "metadata": {
            "tags": []
          },
          "execution_count": 77
        }
      ]
    },
    {
      "cell_type": "code",
      "metadata": {
        "id": "I-0P4CGSu_cP",
        "colab_type": "code",
        "outputId": "ac357702-ae52-4e59-9731-ed452b19d25a",
        "colab": {
          "base_uri": "https://localhost:8080/",
          "height": 34
        }
      },
      "source": [
        "training_sequences = tokenizer.texts_to_sequences(training_text)\n",
        "training_padded = pad_sequences(training_sequences, maxlen=max_length, padding=padding_type, truncating=trunc_type)\n",
        "\n",
        "training_padded.shape"
      ],
      "execution_count": 0,
      "outputs": [
        {
          "output_type": "execute_result",
          "data": {
            "text/plain": [
              "(1600, 300)"
            ]
          },
          "metadata": {
            "tags": []
          },
          "execution_count": 78
        }
      ]
    },
    {
      "cell_type": "code",
      "metadata": {
        "id": "RuR4ylLXvBYO",
        "colab_type": "code",
        "colab": {}
      },
      "source": [
        "testing_sequences = tokenizer.texts_to_sequences(testing_text)\n",
        "testing_padded = pad_sequences(testing_sequences, maxlen=max_length, padding=padding_type, truncating=trunc_type)"
      ],
      "execution_count": 0,
      "outputs": []
    },
    {
      "cell_type": "code",
      "metadata": {
        "id": "YZiWlwTEvDQO",
        "colab_type": "code",
        "colab": {}
      },
      "source": [
        "model = tf.keras.Sequential([\n",
        "    tf.keras.layers.Embedding(vocab_size, embedding_dim, input_length=max_length),\n",
        "    tf.keras.layers.Conv1D(128, 5, activation='relu'),\n",
        "    tf.keras.layers.GlobalMaxPooling1D(),\n",
        "    tf.keras.layers.Dense(64, activation='relu'),\n",
        "    tf.keras.layers.Dense(1, activation='sigmoid')\n",
        "])"
      ],
      "execution_count": 0,
      "outputs": []
    },
    {
      "cell_type": "code",
      "metadata": {
        "id": "D5b86XS5vE0-",
        "colab_type": "code",
        "outputId": "5890b06f-e93b-4001-9322-6ed11360d49b",
        "colab": {
          "base_uri": "https://localhost:8080/",
          "height": 323
        }
      },
      "source": [
        "model.compile(loss='binary_crossentropy',optimizer='adam',metrics=['accuracy'])\n",
        "model.summary()"
      ],
      "execution_count": 0,
      "outputs": [
        {
          "output_type": "stream",
          "text": [
            "Model: \"sequential_2\"\n",
            "_________________________________________________________________\n",
            "Layer (type)                 Output Shape              Param #   \n",
            "=================================================================\n",
            "embedding_2 (Embedding)      (None, 300, 64)           192000    \n",
            "_________________________________________________________________\n",
            "conv1d_2 (Conv1D)            (None, 296, 128)          41088     \n",
            "_________________________________________________________________\n",
            "global_max_pooling1d_2 (Glob (None, 128)               0         \n",
            "_________________________________________________________________\n",
            "dense_4 (Dense)              (None, 64)                8256      \n",
            "_________________________________________________________________\n",
            "dense_5 (Dense)              (None, 1)                 65        \n",
            "=================================================================\n",
            "Total params: 241,409\n",
            "Trainable params: 241,409\n",
            "Non-trainable params: 0\n",
            "_________________________________________________________________\n"
          ],
          "name": "stdout"
        }
      ]
    },
    {
      "cell_type": "code",
      "metadata": {
        "id": "cOEIP99dvHr-",
        "colab_type": "code",
        "outputId": "82a1b6d7-fc0a-42aa-9f7c-7ea68d8a64a2",
        "colab": {
          "base_uri": "https://localhost:8080/",
          "height": 714
        }
      },
      "source": [
        "# format - history (x,y, other things...) x is training data, y is labels \n",
        "num_epochs =20\n",
        "history = model.fit(training_padded, training_labels, epochs=num_epochs, validation_data=(testing_padded, testing_labels), verbose=1)"
      ],
      "execution_count": 0,
      "outputs": [
        {
          "output_type": "stream",
          "text": [
            "Train on 1600 samples, validate on 920 samples\n",
            "Epoch 1/20\n",
            "1600/1600 [==============================] - 4s 3ms/sample - loss: 0.6479 - accuracy: 0.6250 - val_loss: 0.8970 - val_accuracy: 0.0000e+00\n",
            "Epoch 2/20\n",
            "1600/1600 [==============================] - 4s 3ms/sample - loss: 0.4710 - accuracy: 0.7875 - val_loss: 0.4967 - val_accuracy: 0.8413\n",
            "Epoch 3/20\n",
            "1600/1600 [==============================] - 4s 3ms/sample - loss: 0.3136 - accuracy: 0.8706 - val_loss: 0.2744 - val_accuracy: 0.8848\n",
            "Epoch 4/20\n",
            "1600/1600 [==============================] - 4s 3ms/sample - loss: 0.1917 - accuracy: 0.9300 - val_loss: 0.2968 - val_accuracy: 0.8913\n",
            "Epoch 5/20\n",
            "1600/1600 [==============================] - 4s 3ms/sample - loss: 0.0892 - accuracy: 0.9825 - val_loss: 0.4618 - val_accuracy: 0.8587\n",
            "Epoch 6/20\n",
            "1600/1600 [==============================] - 4s 3ms/sample - loss: 0.0315 - accuracy: 0.9981 - val_loss: 0.6222 - val_accuracy: 0.8424\n",
            "Epoch 7/20\n",
            "1600/1600 [==============================] - 4s 3ms/sample - loss: 0.0114 - accuracy: 1.0000 - val_loss: 0.6779 - val_accuracy: 0.8457\n",
            "Epoch 8/20\n",
            "1600/1600 [==============================] - 4s 3ms/sample - loss: 0.0055 - accuracy: 1.0000 - val_loss: 0.7330 - val_accuracy: 0.8435\n",
            "Epoch 9/20\n",
            "1600/1600 [==============================] - 4s 3ms/sample - loss: 0.0034 - accuracy: 1.0000 - val_loss: 0.8024 - val_accuracy: 0.8402\n",
            "Epoch 10/20\n",
            "1600/1600 [==============================] - 4s 3ms/sample - loss: 0.0023 - accuracy: 1.0000 - val_loss: 0.8190 - val_accuracy: 0.8413\n",
            "Epoch 11/20\n",
            "1600/1600 [==============================] - 4s 3ms/sample - loss: 0.0017 - accuracy: 1.0000 - val_loss: 0.8620 - val_accuracy: 0.8380\n",
            "Epoch 12/20\n",
            "1600/1600 [==============================] - 4s 3ms/sample - loss: 0.0013 - accuracy: 1.0000 - val_loss: 0.8881 - val_accuracy: 0.8359\n",
            "Epoch 13/20\n",
            "1600/1600 [==============================] - 4s 3ms/sample - loss: 0.0011 - accuracy: 1.0000 - val_loss: 0.9081 - val_accuracy: 0.8370\n",
            "Epoch 14/20\n",
            "1600/1600 [==============================] - 4s 3ms/sample - loss: 8.7128e-04 - accuracy: 1.0000 - val_loss: 0.9356 - val_accuracy: 0.8326\n",
            "Epoch 15/20\n",
            "1600/1600 [==============================] - 4s 3ms/sample - loss: 7.2909e-04 - accuracy: 1.0000 - val_loss: 0.9470 - val_accuracy: 0.8337\n",
            "Epoch 16/20\n",
            "1600/1600 [==============================] - 4s 3ms/sample - loss: 6.1904e-04 - accuracy: 1.0000 - val_loss: 0.9747 - val_accuracy: 0.8326\n",
            "Epoch 17/20\n",
            "1600/1600 [==============================] - 4s 3ms/sample - loss: 5.2930e-04 - accuracy: 1.0000 - val_loss: 0.9780 - val_accuracy: 0.8337\n",
            "Epoch 18/20\n",
            "1600/1600 [==============================] - 4s 3ms/sample - loss: 4.5966e-04 - accuracy: 1.0000 - val_loss: 0.9994 - val_accuracy: 0.8326\n",
            "Epoch 19/20\n",
            "1600/1600 [==============================] - 4s 3ms/sample - loss: 4.0226e-04 - accuracy: 1.0000 - val_loss: 1.0044 - val_accuracy: 0.8326\n",
            "Epoch 20/20\n",
            "1600/1600 [==============================] - 4s 3ms/sample - loss: 3.5355e-04 - accuracy: 1.0000 - val_loss: 1.0279 - val_accuracy: 0.8315\n"
          ],
          "name": "stdout"
        }
      ]
    },
    {
      "cell_type": "code",
      "metadata": {
        "id": "tgAWATaPvKw_",
        "colab_type": "code",
        "outputId": "a9ebe5f5-4b02-42b2-a19a-0b9afa7c60b7",
        "colab": {
          "base_uri": "https://localhost:8080/",
          "height": 549
        }
      },
      "source": [
        "import matplotlib.pyplot as plt\n",
        "\n",
        "\n",
        "def plot_graphs(history, string):\n",
        "  plt.plot(history.history[string])\n",
        "  plt.plot(history.history['val_'+string])\n",
        "  plt.xlabel(\"Epochs\")\n",
        "  plt.ylabel(string)\n",
        "  plt.legend([string, 'val_'+string])\n",
        "  plt.show()\n",
        "\n",
        "plot_graphs(history, 'accuracy')\n",
        "plot_graphs(history, 'loss')"
      ],
      "execution_count": 0,
      "outputs": [
        {
          "output_type": "display_data",
          "data": {
            "image/png": "[encoded data removed]",
            "text/plain": [
              "<Figure size 432x288 with 1 Axes>"
            ]
          },
          "metadata": {
            "tags": []
          }
        },
        {
          "output_type": "display_data",
          "data": {
            "image/png": "[encoded data removed]",
            "text/plain": [
              "<Figure size 432x288 with 1 Axes>"
            ]
          },
          "metadata": {
            "tags": []
          }
        }
      ]
    },
    {
      "cell_type": "code",
      "metadata": {
        "id": "hqfUOELcW1f_",
        "colab_type": "code",
        "outputId": "fb7e3859-512c-481b-e495-b30ac4e3fcd3",
        "colab": {
          "base_uri": "https://localhost:8080/",
          "height": 34
        }
      },
      "source": [
        "job_text1= pd.read_excel(path + 'Unclassified.xlsx') \n",
        "job_text=job_text1.sample(frac=1) \n",
        "\n",
        "text = job_text['Text']\n",
        "\n",
        "\n",
        "job_sequences = tokenizer.texts_to_sequences(text)\n",
        "job_padded = pad_sequences(job_sequences, maxlen=max_length, padding=padding_type, truncating=trunc_type)\n",
        "\n",
        "\n",
        "#training_test.shape # (1600,) here shape is (1600,) but in our data shape is (1332,1)\n",
        "training_sequences = tokenizer.texts_to_sequences(training_text)\n",
        "training_padded = pad_sequences(training_sequences, maxlen=max_length, padding=padding_type, truncating=trunc_type)\n",
        "\n",
        "training_padded.shape\n"
      ],
      "execution_count": 0,
      "outputs": [
        {
          "output_type": "execute_result",
          "data": {
            "text/plain": [
              "(1600, 300)"
            ]
          },
          "metadata": {
            "tags": []
          },
          "execution_count": 57
        }
      ]
    },
    {
      "cell_type": "code",
      "metadata": {
        "id": "P1HwPOUAm1fy",
        "colab_type": "code",
        "colab": {}
      },
      "source": [
        "import numpy as np \n",
        "#job_text1.shape # ok (1332,1) \n",
        "#job_text.shape # ok (1332,1) \n",
        "### job_text # is a column of string but after tokenizign it should give a matrix  \n",
        "Xnew = np.asarray(job_padded)\n"
      ],
      "execution_count": 0,
      "outputs": []
    },
    {
      "cell_type": "code",
      "metadata": {
        "id": "JCaGcl66ccBu",
        "colab_type": "code",
        "colab": {}
      },
      "source": [
        "\n",
        "ynew = model.predict_classes(Xnew)\n",
        "\n",
        "df_ynew =pd.DataFrame(ynew)\n",
        "# show the inputs and predicted outputs\n",
        "#for i in range(len(Xnew)):\n",
        "\t#print(\"X=%s, Predicted=%s\" % (Xnew[i], ynew[i]))"
      ],
      "execution_count": 0,
      "outputs": []
    },
    {
      "cell_type": "code",
      "metadata": {
        "id": "CpMZcjcQ4cIG",
        "colab_type": "code",
        "colab": {}
      },
      "source": [
        "df1 = pd.DataFrame(job_text, columns=['Text'])\n",
        "df2 = pd.DataFrame(ynew, columns=['Label'])\n",
        "\n",
        "#df2\n",
        "final = pd.concat([df1, df2], axis=1)\n",
        "\n",
        "#final"
      ],
      "execution_count": 0,
      "outputs": []
    },
    {
      "cell_type": "code",
      "metadata": {
        "id": "N2bASZVj6qC1",
        "colab_type": "code",
        "colab": {}
      },
      "source": [
        "final.to_excel(r'/content/drive/My Drive/predictions.xlsx')"
      ],
      "execution_count": 0,
      "outputs": []
    },
    {
      "cell_type": "code",
      "metadata": {
        "id": "isoLR-sDgcvJ",
        "colab_type": "code",
        "outputId": "89d7bbfd-4c0e-4461-b6cd-b54d67491ff2",
        "colab": {
          "base_uri": "https://localhost:8080/",
          "height": 462
        }
      },
      "source": [
        "import io\n",
        "sequences = tokenizer.texts_to_sequences(training_text)\n",
        "padded = pad_sequences(sequences,maxlen=max_length, truncating=trunc_type)\n",
        "\n",
        "e = model.layers[0]\n",
        "weights = e.get_weights()[0]\n",
        "\n",
        "\n",
        "reverse_word_index = dict([(value, key) for (key, value) in word_index.items()])\n",
        "\n",
        "def decode_review(text):\n",
        "    return ' '.join([reverse_word_index.get(i, '?') for i in text])\n",
        "\n",
        "print(decode_review(padded[1]))\n",
        "print(training_text[1])\n",
        "\n",
        "\n",
        "\n",
        "out_v = io.open('vecs.tsv', 'w', encoding='utf-8')\n",
        "out_m = io.open('meta.tsv', 'w', encoding='utf-8')\n",
        "for word_num in range(1, vocab_size):\n",
        "  word = reverse_word_index[word_num]\n",
        "  embeddings = weights[word_num]\n",
        "  out_m.write(word + \"\\n\")\n",
        "  out_v.write('\\t'.join([str(x) for x in embeddings]) + \"\\n\")\n",
        "out_v.close()\n",
        "out_m.close()"
      ],
      "execution_count": 0,
      "outputs": [
        {
          "output_type": "stream",
          "text": [
            "prime minister narendra modi wants more private investment in agriculture but it is already <OOV> on private investment once again while speaking during the <OOV> of thanks on the <OOV> speech prime minister narendra modi made it clear in the lok sabha that agriculture would be his government's top priority agriculture is the <OOV> of our economy  he said his <OOV> is right and the <OOV> has come at the right time even though more and more people are <OOV> farming it continues to <OOV> most in the country agriculture still accounts for a <OOV> of rural consumption that eventually contributes to the country's overall consumption level his <OOV> are also <OOV> on but we have to leave our old ways and <OOV> things like micro irrigation we have to bring down inputs costs we have to hold the hands of our farmers  farmers have been <OOV> with inadequate returns on their produce and it is due to various reasons an important reason being the rising cost of inputs bringing down <OOV> finally ending his notes on agriculture he said why does the corporate world have no investment in agriculture we have to <OOV> them we have to create new policies for them making tractors is not enough food processing warehouses cold storage need corporate investment  here as well <OOV> can dispute his <OOV> on where and who should be targeted for helping out the farmers to get fair price according to government estimate there is scope for expanding the area under horticulture crops by 4 million hectares this will generate <OOV> <OOV> additional employment opportunities in horticulture taking up high value crops like the <OOV> ones increases gross returns up to rs <OOV> 000 per hectare according to government data the biggest challenge that <OOV> horticulture\n",
            "Prime Minister Narendra Modi wants more private investment in agriculture, but it is already sustaining on private investment\n",
            "\n",
            "Once again, while speaking during the motion of thanks on the President's speech, Prime Minister Narendra Modi made it clear in the Lok Sabha that agriculture would be his government's top priority.\n",
            "  Agriculture is the backbone of our economy,  he said. His diagnosis is right, and the acknowledgement has come at the right time. Even though more and more people are quitting farming, it continues to employ most in the country.\n",
            "Agriculture still accounts for a  bulk of rural consumption that eventually contributes to the country's overall consumption level.\n",
            "His prescriptions are also dot on: But we have to leave our old ways and embrace things like micro-irrigation. We have to bring down inputs costs. We have to hold the hands of our farmers. \n",
            "Farmers have been struggling with inadequate returns on their produce. And it is due to various reasons; an important reason being the rising cost of inputs bringing down earning.\n",
            "Finally, ending his notes on agriculture, he said: Why does the corporate world have no investment in agriculture? We have to inspire them, we have to create new policies for them. Making tractors is not enough. Food processing, warehouses, cold storage need corporate investment. \n",
            "Here as well, nobody can dispute his arguments on where and who should be targeted for helping out the farmers to get fair price. According to government estimate, there is scope for expanding the area under horticulture crops by 4 million hectares. This will generate  eight  million additional employment opportunities in horticulture. Taking up high-value crops like the horticultural ones increases gross returns up to Rs 110,000 per hectare, according to government data.\n",
            "The biggest challenge that haunts horticulture farmers is the sale and post-harvest loss. This is already making this boom less lucrative to farmers. While, the government takes pride in saying that India is the second-largest producer of vegetables and fruits in the world, it may be noted that these are perishable produces and the per capita availability of fruits and vegetables is quite low because of post-harvest losses, which account for about 25 per cent to 30 per cent of production.\n",
            "This wastage is due to gaps in the cold chain such as poor infrastructure, insufficient cold storage capacity, unavailability of cold storages in proximity to farms and weak transportation infrastructure.\n",
            "During 1982-83 to 2011-12, horticulture production went up every decade. But the wholesale prices of produce dipped after 2004-05. Every year,  farmers lose around Rs 63,000 crore for not being able to sell their produces for which they have already made investments. Just to make sense of this staggering figure: This amounts to 70 per cent of the investment required for making available cold-chain infrastructures essential for avoiding post-harvest losses.\n",
            "But, his inquisition on the corporate sector not investing on agriculture has some doubts. If one considers only corporate houses/private industrial ventures, they are a booming group of private concerns. They drive India's farm mechanical sector; the seed sector and also have significant investments on horticulture related and food processing sector. Yes, these businesses have huge potential to be exploited.\n",
            "But, agriculture is a private business. One may argue it is the country's largest private entrepreneur venture of over Rs. 26 lakh crore turnovers/year.\n",
            "More to it, the agriculture sector has been sustaining on private investments, mostly from the debt-ridden farmers. During 2011-12 and 2014-15, gross capital formation in agriculture in fact dipped: from Rs. 2, 74,432 crore to Rs. 2, 54, 495 crore. Out of this private contribution to this was Rs. 2, 38,717 crore in 2011-12 and Rs. 2, 20,434 in 2014-15. Public contribution was just Rs. 35,715 crore in 2011 and Rs. 36,061 crore in 2014. The share of public investment in gross capital formation has in fact dipped to extremely low level. This indicates governments' spending in the sector, particularly on capital investments, is coming down.\n",
            "Not only this, farmers have to make the most of investment to fulfil Modi's promise of doubling of farmers' income by 2022.\n",
            "The government-appointed Committee on Doubling Farmers' Income, led by Ashok Dalwai, feels that the target is achievable. According to the report, real income from farming   ” around 60 per cent of a farmer's total income   ”  has to be doubled  (as targeted for 2022). If achieved, this will change the ratio of a farmer's income from farm and non-farm sources  ” from 60:40 at present to 70:30 in 2022.\n",
            "But, the committee's estimate of costs involved, both government and private, has some insights on how or whether private participation can help farmers' income doubling.\n",
            "While estimating the required investment, the committee has assumed that the sector's growth rate from 2015-16 will remain constant till 2022 and increase the farmers' income by 9.23 per cent every year.\n",
            "For this to happen, the farmers need to invest Rs 46,299 crore (at 2005-05 price) in the next five years. Farmers invested Rs 29,559 crore in 2015-16. For the government, the expenditure or investment has to be Rs 1, 02,269 crore, up from Rs 64,022 crore in 2015-16.\n",
            "Now, supposing the government giving a fillip to food processing and bringing in massive private investments in agriculture sector, what incentives the government would offer to them? Modi has just said that government would incentivise.\n",
            "But if the bulk of the private investment is from farmers, what incentives they should be offered to continue farming. This needs to be charted out as the corporate sector features mostly after the harvests, and mostly in processing or creating storages.\n",
            "This brings the debate to where governments have left, now and as well as earlier: what would be the government's role in it, then?  \n",
            "\n"
          ],
          "name": "stdout"
        }
      ]
    },
    {
      "cell_type": "code",
      "metadata": {
        "id": "OVyMV1H9jx4K",
        "colab_type": "code",
        "colab": {}
      },
      "source": [
        "\n",
        "try:\n",
        "  from google.colab import files\n",
        "except ImportError:\n",
        "  pass\n",
        "else:\n",
        "  files.download('vecs.tsv')\n",
        "  files.download('meta.tsv')"
      ],
      "execution_count": 0,
      "outputs": []
    }
  ]
}